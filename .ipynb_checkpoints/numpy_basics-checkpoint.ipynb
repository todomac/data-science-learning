{
 "cells": [
  {
   "cell_type": "code",
   "execution_count": 2,
   "metadata": {},
   "outputs": [],
   "source": [
    "import numpy as np\n",
    "\n",
    "\n",
    "#Numpy array is fast and uses less memory\n",
    "\n",
    "#a = np.array(range(0,1000))"
   ]
  },
  {
   "cell_type": "code",
   "execution_count": 3,
   "metadata": {},
   "outputs": [
    {
     "name": "stdout",
     "output_type": "stream",
     "text": [
      "Python list memory footprint --> 28000\n",
      "Numpy memory footprint --> 8000\n"
     ]
    }
   ],
   "source": [
    "import time\n",
    "import sys\n",
    "\n",
    "b = range(1000)\n",
    "#Show memory footprint of a regular python list\n",
    "print(\"Python list memory footprint --> \" + str(sys.getsizeof(6) * len(b)))\n",
    "\n",
    "c = np.arange(1000)\n",
    "#Show memory footprint of a numpy array\n",
    "print(\"Numpy memory footprint --> \" + str(c.size * c.itemsize))"
   ]
  },
  {
   "cell_type": "code",
   "execution_count": 4,
   "metadata": {},
   "outputs": [
    {
     "name": "stdout",
     "output_type": "stream",
     "text": [
      "Python List Took 0.0700688362121582\n",
      "Numpy Took 0.014641523361206055\n"
     ]
    }
   ],
   "source": [
    "size = 1000000\n",
    "\n",
    "l1 = range(size)\n",
    "l2 = range(size)\n",
    "\n",
    "a1 = np.arange(size)\n",
    "a2 = np.arange(size)\n",
    "\n",
    "start = time.time()\n",
    "result = [(x+y) for x,y in zip(l1, l2)]\n",
    "print(\"Python List Took {}\".format(time.time() - start))\n",
    "\n",
    "start_2 = time.time()\n",
    "\n",
    "# THIS is freaking AWESOME!\n",
    "# Numpy knows these two are arrays so does matrix addition\n",
    "result = a1 + a2\n",
    "print(\"Numpy Took {}\".format(time.time() - start_2))"
   ]
  },
  {
   "cell_type": "code",
   "execution_count": 5,
   "metadata": {},
   "outputs": [
    {
     "name": "stdout",
     "output_type": "stream",
     "text": [
      "[[1000    2]\n",
      " [   3    4]\n",
      " [   5    6]]\n"
     ]
    }
   ],
   "source": [
    "\n",
    "z = np.array([[1000,2], [3,4], [5,6]])\n",
    "print(z)"
   ]
  },
  {
   "cell_type": "code",
   "execution_count": 6,
   "metadata": {},
   "outputs": [
    {
     "name": "stdout",
     "output_type": "stream",
     "text": [
      "The number of dimensions (aka columns) each row has = 2 \n",
      "This array has 3 rows and 2 columns\n"
     ]
    }
   ],
   "source": [
    "#How many dimensions?\n",
    "print(\"The number of dimensions (aka columns) each row has = %s \" % str(z.ndim))\n",
    "\n",
    "#What is the \"shape\" of the array in R:C format\n",
    "print(\"This array has {} rows and {} columns\".format(z.shape[0], z.shape[1]))"
   ]
  },
  {
   "cell_type": "code",
   "execution_count": 7,
   "metadata": {},
   "outputs": [
    {
     "name": "stdout",
     "output_type": "stream",
     "text": [
      "8\n"
     ]
    }
   ],
   "source": [
    "#How big in BYTEs each array element is....\n",
    "print(z.itemsize)"
   ]
  },
  {
   "cell_type": "code",
   "execution_count": 8,
   "metadata": {},
   "outputs": [
    {
     "name": "stdout",
     "output_type": "stream",
     "text": [
      "[[1000.    2.]\n",
      " [   3.    4.]\n",
      " [   5.    6.]]\n",
      "8\n"
     ]
    }
   ],
   "source": [
    "# Convert all values to another type by passing the dtype arg\n",
    "z = np.array([[1000,2], [3,4], [5,6]], dtype=np.float64)\n",
    "print(z)\n",
    "print(z.itemsize)"
   ]
  },
  {
   "cell_type": "code",
   "execution_count": 9,
   "metadata": {},
   "outputs": [
    {
     "data": {
      "text/plain": [
       "(3, 2)"
      ]
     },
     "execution_count": 9,
     "metadata": {},
     "output_type": "execute_result"
    }
   ],
   "source": [
    "z.shape"
   ]
  },
  {
   "cell_type": "code",
   "execution_count": 10,
   "metadata": {},
   "outputs": [
    {
     "data": {
      "text/plain": [
       "array([[0., 0., 0., 0.],\n",
       "       [0., 0., 0., 0.],\n",
       "       [0., 0., 0., 0.]])"
      ]
     },
     "execution_count": 10,
     "metadata": {},
     "output_type": "execute_result"
    }
   ],
   "source": [
    "# Creates an array of R/C shape 3,4 filled with zeroes of type float\n",
    "np.zeros((3,4))"
   ]
  },
  {
   "cell_type": "code",
   "execution_count": 11,
   "metadata": {},
   "outputs": [
    {
     "data": {
      "text/plain": [
       "array([[1000.,    2.],\n",
       "       [   3.,    4.],\n",
       "       [   5.,    6.]])"
      ]
     },
     "execution_count": 11,
     "metadata": {},
     "output_type": "execute_result"
    }
   ],
   "source": [
    "z"
   ]
  },
  {
   "cell_type": "code",
   "execution_count": 13,
   "metadata": {},
   "outputs": [
    {
     "data": {
      "text/plain": [
       "array([[1020.,   32.],\n",
       "       [  43.,   54.],\n",
       "       [  65.,   76.]])"
      ]
     },
     "execution_count": 13,
     "metadata": {},
     "output_type": "execute_result"
    }
   ],
   "source": [
    "y = np.array(([20,30],[40,50],[60,70]), dtype=np.float64)\n",
    "\n",
    "# Boom ... matrix-matrix addition\n",
    "z + y"
   ]
  },
  {
   "cell_type": "code",
   "execution_count": null,
   "metadata": {},
   "outputs": [],
   "source": []
  }
 ],
 "metadata": {
  "kernelspec": {
   "display_name": "Python 3",
   "language": "python",
   "name": "python3"
  },
  "language_info": {
   "codemirror_mode": {
    "name": "ipython",
    "version": 3
   },
   "file_extension": ".py",
   "mimetype": "text/x-python",
   "name": "python",
   "nbconvert_exporter": "python",
   "pygments_lexer": "ipython3",
   "version": "3.6.9"
  }
 },
 "nbformat": 4,
 "nbformat_minor": 4
}
